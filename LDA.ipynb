{
 "cells": [
  {
   "cell_type": "markdown",
   "metadata": {},
   "source": [
    "Reference: https://sebastianraschka.com/Articles/2014_python_lda.html"
   ]
  },
  {
   "cell_type": "code",
   "execution_count": 1,
   "metadata": {},
   "outputs": [],
   "source": [
    "import numpy as np\n",
    "import json\n",
    "import pandas as pd\n",
    "import matplotlib.pyplot as plt\n",
    "from sklearn import datasets\n",
    "\n",
    "np.random.seed(1)\n",
    "plt.style.use('classic')"
   ]
  },
  {
   "cell_type": "code",
   "execution_count": 2,
   "metadata": {},
   "outputs": [],
   "source": [
    "feature_dict = {i:label for i,label in zip(\n",
    "                range(4),\n",
    "                  ('sepal length in cm',\n",
    "                  'sepal width in cm',\n",
    "                  'petal length in cm',\n",
    "                  'petal width in cm', ))}"
   ]
  },
  {
   "cell_type": "code",
   "execution_count": 3,
   "metadata": {},
   "outputs": [],
   "source": [
    "iris = datasets.load_iris()\n",
    "X = iris.data\n",
    "y = iris.target"
   ]
  },
  {
   "cell_type": "code",
   "execution_count": 4,
   "metadata": {},
   "outputs": [
    {
     "data": {
      "text/plain": [
       "((150, 4), (150,))"
      ]
     },
     "execution_count": 4,
     "metadata": {},
     "output_type": "execute_result"
    }
   ],
   "source": [
    "X.shape, y.shape"
   ]
  },
  {
   "cell_type": "markdown",
   "metadata": {},
   "source": [
    "Promedio de cada caracteristica para cada clase\n",
    "\n",
    "$$\n",
    "\\begin{align}\n",
    "\\mu_i = \\frac{1}{n_i} \\sum_{i=1}^{C} x_k\n",
    "\\end{align}\n",
    "$$"
   ]
  },
  {
   "cell_type": "code",
   "execution_count": null,
   "metadata": {},
   "outputs": [
    {
     "name": "stdout",
     "output_type": "stream",
     "text": [
      "Mean Vector class 0: [5.006 3.428 1.462 0.246]\n",
      "\n",
      "Mean Vector class 1: [5.936 2.77  4.26  1.326]\n",
      "\n",
      "Mean Vector class 2: [6.588 2.974 5.552 2.026]\n",
      "\n"
     ]
    }
   ],
   "source": [
    "np.set_printoptions(precision=4)\n",
    "\n",
    "mean_vectors = []\n",
    "for category in range(0,3):\n",
    "    mean_vectors.append(np.mean(X[y==category], axis=0))\n",
    "    print('Mean Vector class %s: %s\\n' %(category, mean_vectors[category]))"
   ]
  },
  {
   "cell_type": "code",
   "execution_count": null,
   "metadata": {},
   "outputs": [
    {
     "data": {
      "text/plain": [
       "(3, 4)"
      ]
     },
     "execution_count": 20,
     "metadata": {},
     "output_type": "execute_result"
    }
   ],
   "source": [
    "np.array(mean_vectors).shape"
   ]
  },
  {
   "cell_type": "markdown",
   "metadata": {},
   "source": [
    "The within class variance (SW)\n",
    "\n",
    "$$\n",
    "\\begin{align}\n",
    "S_W = \\sum_{i=1}^{C} \\sum_{j=0}^{n} x_n \\cdot e^{-i2\\pi\\frac{n}{N}}\n",
    "\\end{align}\n",
    "$$"
   ]
  },
  {
   "cell_type": "code",
   "execution_count": null,
   "metadata": {},
   "outputs": [
    {
     "name": "stdout",
     "output_type": "stream",
     "text": [
      "within-class Scatter Matrix:\n",
      " [[ 97.3682 -15.1782 196.0494  78.1788]\n",
      " [-15.1782  33.6502 -71.3282 -24.0392]\n",
      " [196.0494 -71.3282 500.6482 202.2864]\n",
      " [ 78.1788 -24.0392 202.2864  88.4324]]\n"
     ]
    }
   ],
   "source": [
    "S_W = np.zeros((4,4))\n",
    "for category, mean_vector in zip(range(1,4), mean_vectors):\n",
    "    class_scatter_matrix = np.zeros((4,4))\n",
    "    for row in X[y == category]:\n",
    "        row, mean_vector = row.reshape(4,1), mean_vector.reshape(4,1)\n",
    "        class_scatter_matrix += (row-mean_vector).dot((row-mean_vector).T)\n",
    "    S_W += class_scatter_matrix\n",
    "print('within-class Scatter Matrix:\\n', S_W)"
   ]
  },
  {
   "cell_type": "code",
   "execution_count": 30,
   "metadata": {},
   "outputs": [
    {
     "data": {
      "text/plain": [
       "(4, 4)"
      ]
     },
     "execution_count": 30,
     "metadata": {},
     "output_type": "execute_result"
    }
   ],
   "source": [
    "S_W.shape"
   ]
  },
  {
   "cell_type": "markdown",
   "metadata": {},
   "source": [
    "The between classes variance (SB)\n",
    "\n",
    "$$\n",
    "\\begin{align}\n",
    "S_B = \\sum_{i=1}^{C} N_i \\left(m_i - m\\right) \\cdot \\left(m_i - m\\right)^T\n",
    "\\end{align}\n",
    "$$"
   ]
  },
  {
   "cell_type": "markdown",
   "metadata": {},
   "source": [
    "$$\n",
    "\\begin{align}\n",
    "S_B = \\sum_{i=1}^{C} N_i \\left(m_i - m\\right) \\cdot \\left(m_i - m\\right)^T\n",
    "\\end{align}\n",
    "$$"
   ]
  },
  {
   "cell_type": "code",
   "execution_count": null,
   "metadata": {},
   "outputs": [
    {
     "name": "stdout",
     "output_type": "stream",
     "text": [
      "[5.8433 3.0573 3.758  1.1993]\n",
      "between-class Scatter Matrix:\n",
      " [[ 35.4857 -16.8499  98.4518  40.4998]\n",
      " [-16.8499  10.9977 -49.7646 -19.4882]\n",
      " [ 98.4518 -49.7646 276.181  112.622 ]\n",
      " [ 40.4998 -19.4882 112.622   46.2444]]\n"
     ]
    }
   ],
   "source": [
    "overall_mean = np.mean(X, axis=0)\n",
    "print(overall_mean)\n",
    "\n",
    "S_B = np.zeros((4,4))\n",
    "for i, mean_vector in enumerate(mean_vectors):  \n",
    "    n = X[y==i+1,:].shape[0]\n",
    "    mean_vector = mean_vector.reshape(4,1)\n",
    "    overall_mean = overall_mean.reshape(4,1)\n",
    "    S_B += n * (mean_vector - overall_mean).dot((mean_vector - overall_mean).T)\n",
    "\n",
    "print('between-class Scatter Matrix:\\n', S_B)"
   ]
  },
  {
   "cell_type": "code",
   "execution_count": 25,
   "metadata": {},
   "outputs": [
    {
     "data": {
      "text/plain": [
       "array([[5.8433],\n",
       "       [3.0573],\n",
       "       [3.758 ],\n",
       "       [1.1993]])"
      ]
     },
     "execution_count": 25,
     "metadata": {},
     "output_type": "execute_result"
    }
   ],
   "source": [
    "overall_mean"
   ]
  },
  {
   "cell_type": "code",
   "execution_count": 28,
   "metadata": {},
   "outputs": [
    {
     "data": {
      "text/plain": [
       "(50, 4)"
      ]
     },
     "execution_count": 28,
     "metadata": {},
     "output_type": "execute_result"
    }
   ],
   "source": [
    "X[y==1+1,:].shape"
   ]
  },
  {
   "cell_type": "markdown",
   "metadata": {},
   "source": [
    "Fisher's criterion:\n",
    "\n",
    "$$\n",
    "\\begin{align}\n",
    "S_W v = \\lambda S_B v\n",
    "\\end{align}\n",
    "$$"
   ]
  },
  {
   "cell_type": "markdown",
   "metadata": {},
   "source": [
    "Reformulate as eigen vector with eigen values:\n",
    "$$\n",
    "\\begin{align}\n",
    "S_W \\cdot S_B^-1 v = \\lambda v\n",
    "\\end{align}\n",
    "$$"
   ]
  }
 ],
 "metadata": {
  "kernelspec": {
   "display_name": "Python 3",
   "language": "python",
   "name": "python3"
  },
  "language_info": {
   "codemirror_mode": {
    "name": "ipython",
    "version": 3
   },
   "file_extension": ".py",
   "mimetype": "text/x-python",
   "name": "python",
   "nbconvert_exporter": "python",
   "pygments_lexer": "ipython3",
   "version": "3.10.10"
  }
 },
 "nbformat": 4,
 "nbformat_minor": 2
}
